{
 "cells": [
  {
   "cell_type": "markdown",
   "metadata": {},
   "source": [
    "# Parsing\n",
    "\n",
    "Goals:\n",
    "\n",
    "    - Plan a parsing strategy\n",
    "    - Use basic regular expressions: match, search, sub\n",
    "    - Benchmarking a parser\n",
    "    - Running nosetests\n",
    "    - Write a simple parser\n",
    "    \n",
    "# Modules:\n",
    "\n",
    "\n"
   ]
  },
  {
   "cell_type": "code",
   "execution_count": null,
   "metadata": {
    "collapsed": true
   },
   "outputs": [],
   "source": [
    "import re\n",
    "import nose\n",
    "# %timeit"
   ]
  },
  {
   "cell_type": "markdown",
   "metadata": {},
   "source": [
    "# Parsing is hard...\n",
    "\n",
    "<h2>\n",
    "<i>\"System Administrators spent $24.3\\%$ of\n",
    " their work-life parsing files.\"</i>\n",
    " <br><br>\n",
    " \n",
    " Independent analysis by The GASP* Society ;) <br>\n",
    " </h2>\n",
    "<h3>\n",
    " *(Grep Awk Sed Perl)\n",
    " </h3>"
   ]
  },
  {
   "cell_type": "markdown",
   "metadata": {},
   "source": [
    "# ... use a strategy!\n",
    "\n",
    "<table>\n",
    "<tr><td>\n",
    "<ol><li>Collect parsing samples\n",
    "<li>Play in ipython and collect %history\n",
    "<li>Write tests, then the parser\n",
    "<li>Eventually benchmark\n",
    "</ol>\n",
    "</td><td>\n",
    "<img src=\"img/parsing-lifecycle.png\" />\n",
    "</td></tr>\n",
    "</table>\n"
   ]
  },
  {
   "cell_type": "markdown",
   "metadata": {},
   "source": [
    "# Parsing postfix logs"
   ]
  },
  {
   "cell_type": "code",
   "execution_count": null,
   "metadata": {
    "collapsed": false
   },
   "outputs": [],
   "source": [
    "from __future__ import print_function\n",
    "# Before writing the parser, collect samples of\n",
    "#  the interesting lines. For now just\n",
    "from course import mail_sent, mail_delivered\n",
    "\n",
    "print(\"I'm goint to parse the following line\", mail_sent, sep=\"\\n\\n\")"
   ]
  },
  {
   "cell_type": "code",
   "execution_count": null,
   "metadata": {
    "collapsed": true
   },
   "outputs": [],
   "source": [
    "# and %edit a simple\n",
    "def test_sent():\n",
    "    hour, host, to = parse_line(mail_sent)\n",
    "    assert hour == '08:00:00'\n",
    "    assert to == 'jon@doe.it'"
   ]
  },
  {
   "cell_type": "code",
   "execution_count": null,
   "metadata": {
    "collapsed": false
   },
   "outputs": [],
   "source": [
    "# Play with mail_sent and start using basic strings in ipython\n",
    "mail_sent.split()"
   ]
  },
  {
   "cell_type": "code",
   "execution_count": null,
   "metadata": {
    "collapsed": false
   },
   "outputs": [],
   "source": [
    "# You can number fields with enumerate. \n",
    "# Remember that ipython puts the last returned value in `_`\n",
    "# which is useful in interactive mode!\n",
    "fields, counting = _, enumerate(_)\n",
    "print(*counting, sep=\"\\n\")"
   ]
  },
  {
   "cell_type": "code",
   "execution_count": null,
   "metadata": {
    "collapsed": true
   },
   "outputs": [],
   "source": [
    "# Now we can pick fields singularly...\n",
    "hour, host, dest = fields[2], fields[3], fields[6]"
   ]
  },
  {
   "cell_type": "code",
   "execution_count": null,
   "metadata": {
    "collapsed": true
   },
   "outputs": [],
   "source": [
    "# ... or with \n",
    "from operator import itemgetter\n",
    "which_returns_a_function = itemgetter(2, 3, 6)\n",
    "assert (hour, host, dest) == which_returns_a_function(fields)"
   ]
  },
  {
   "cell_type": "markdown",
   "metadata": {},
   "source": [
    "## Exercise I\n",
    "    \n",
    "    - %edit 03_parsing_test.py\n",
    "    - complete the parse_line(line) function\n",
    "    - %paste your solution's code in iPython and run manually the test functions\n",
    "\n"
   ]
  },
  {
   "cell_type": "code",
   "execution_count": null,
   "metadata": {
    "collapsed": false
   },
   "outputs": [],
   "source": [
    "# %load ../scripts/03_parsing_test.py\n",
    "\"\"\" Python for System Administrators\n",
    "\n",
    "    Roberto Polli <rpolli@babel.it>\n",
    "\n",
    "    This file shows how to parse a postfix maillog file.\n",
    "     maillog traces every incoming and outgoing email using\n",
    "     different line formats.\n",
    "\"\"\"\n",
    "\n",
    "#\n",
    "# Before writing the parser we collect the\n",
    "#  interesting lines to use as a sample\n",
    "#  For now we're just interested in the following cases\n",
    "#  1- a mail is sent\n",
    "#  2- a mail is delivered\n",
    "test_str_1 = 'Nov 31 08:00:00 test-fe1 postfix/smtp[16669]: 7CD8E730020: to=<jon@doe.it>, relay=examplemx2.doe.it[222.33.44.555]:25, delay=0.8, delays=0.17/0.01/0.43/0.19, dsn=2.0.0, status=sent(250 ok:  Message 2108406157 accepted)'\n",
    "test_str_2 = 'Nov 31 08:00:00 test-fe1 postfix/smtp[16669]: 7CD8E730020: removed'\n",
    "\n",
    "\n",
    "def test_sent():\n",
    "    hour, host, destination = parse_line(test_str_1)\n",
    "    assert hour == '08:00:00'\n",
    "    assert host == 'test-fe1'\n",
    "    assert destination == 'jon@doe.it'\n",
    "\n",
    "\n",
    "def test_delivered():\n",
    "    hour, host, destination = parse_line(test_str_2)\n",
    "    assert hour == '08:00:00'\n",
    "    assert host == 'test-fe1'\n",
    "    assert destination is None\n",
    "\n",
    "\n",
    "def parse_line(line):\n",
    "    \"\"\" Complete the parse line function.\n",
    "\n",
    "        Without watching the solution: ICAgIGltcG9ydCByZQogICAgXywgXywgaG91ciwgaG9zdCwgXywgXywgZGVzdCA9IGxpbmUuc3BsaXQoKVs6N10KICAgIHRyeToKICAgICAgICBkZXN0ID0gcmUuc3BsaXQocidbPD5dJywgZGVzdClbMV0KICAgIGV4Y2VwdDoKICAgICAgICBkZXN0ID0gTm9uZQogICAgcmV0dXJuIChob3VyLCBob3N0LCBkZXN0KQoK\"\"\"\n",
    "    # Hint: \"you can\".split()\n",
    "    # Hint: \"<you can slice>\"[1:-1] or use re.split\n",
    "    raise NotImplementedError(\"Write me!\")\n"
   ]
  },
  {
   "cell_type": "code",
   "execution_count": null,
   "metadata": {
    "collapsed": false
   },
   "outputs": [],
   "source": [
    "#\n",
    "# Run test\n",
    "#\n",
    "test_sent()"
   ]
  },
  {
   "cell_type": "code",
   "execution_count": null,
   "metadata": {
    "collapsed": true
   },
   "outputs": [],
   "source": [
    "# Don't look at the solution ;)\n",
    "%load course/parse_line.py\n"
   ]
  },
  {
   "cell_type": "markdown",
   "metadata": {},
   "source": [
    "# Python Regexp\n"
   ]
  },
  {
   "cell_type": "code",
   "execution_count": null,
   "metadata": {
    "collapsed": true
   },
   "outputs": [],
   "source": [
    "# Python supports regular expressions via\n",
    "import re\n",
    "\n",
    "# We start showing a grep-reloaded function\n",
    "def grep(expr, fpath):\n",
    "    one = re.compile(expr) # ...has two lookup methods...\n",
    "    assert ( one.match     # which searches from ^ the beginning\n",
    "         and one.search )  # that searches $\\pyver{anywhere}$\n",
    "\n",
    "    with open(fpath) as fp:\n",
    "        return [x for x in fp if one.search(x)]"
   ]
  },
  {
   "cell_type": "code",
   "execution_count": null,
   "metadata": {
    "collapsed": false
   },
   "outputs": [],
   "source": [
    "# The function seems to work as expected ;)\n",
    "assert not grep(r'^localhost', '/etc/hosts')\n",
    "\n",
    "# And some more tests\n",
    "ret = grep('127.0.0.1', '/etc/hosts')\n",
    "assert ret, \"ret should not be empty\"\n",
    "print(*ret)"
   ]
  },
  {
   "cell_type": "markdown",
   "metadata": {},
   "source": [
    "### Achieve more complex splitting using regular expressions. "
   ]
  },
  {
   "cell_type": "code",
   "execution_count": null,
   "metadata": {
    "collapsed": false
   },
   "outputs": [],
   "source": [
    "from re import split # is a very nice function\n",
    "import sys\n",
    "from course import sh\n",
    "\n",
    "# Let's gather some ping stats\n",
    "if sys.platform.startswith('win'):\n",
    "    cmd = \"ping -n3 www.google.it\"\n",
    "else:\n",
    "    cmd = \"ping -c3 -w3 www.google.it\"\n",
    "\n",
    "# Split for both space and =\n",
    "ping_output = [split(\"[ =]\", x) for x in sh(cmd)]\n",
    "\n",
    "print(*ping_output, sep=\"\\n\")"
   ]
  },
  {
   "cell_type": "code",
   "execution_count": null,
   "metadata": {
    "collapsed": false
   },
   "outputs": [],
   "source": [
    "# Splitting with re.findall\n",
    "\n",
    "from re import findall  # can be misused too;\n",
    "\n",
    "# eg for adding the \":\" to a\n",
    "mac = \"00\"\"24\"\"e8\"\"b4\"\"33\"\"20\"\n",
    "\n",
    "# ...using this\n",
    "re_hex = \"[0-9a-fA-F]{2}\"\n",
    "mac_address = ':'.join(findall(re_hex, mac))\n",
    "print(\"The mac address is \", mac_address)\n",
    "\n",
    "# Actually this does a bit of validation, requiring all chars to be in the 0-F range"
   ]
  },
  {
   "cell_type": "markdown",
   "metadata": {},
   "source": [
    "# Benchmarking in iPython - I\n",
    "\n",
    "  - Parsing big files needs benchmarks. iPython %timeit magic is a good starting point\n",
    "  \n",
    "We are going to measure the execution time of various tasks, using different strategies like regexp, join and split. "
   ]
  },
  {
   "cell_type": "code",
   "execution_count": null,
   "metadata": {
    "collapsed": false
   },
   "outputs": [],
   "source": [
    "# Run the following cell many times. \n",
    "# Do you always get the same results?\n",
    "test_all_regexps = (\"..\", \"[a-fA-F0-9]{2}\")\n",
    "for re_s in test_all_regexps:\n",
    "    %timeit ':'.join(findall(re_s, mac))"
   ]
  },
  {
   "cell_type": "code",
   "execution_count": null,
   "metadata": {
    "collapsed": false
   },
   "outputs": [],
   "source": [
    "# We can even compare compiled vs inline regexp\n",
    "import re\n",
    "from time import sleep\n",
    "for re_s in test_all_regexps:\n",
    "    re_c = re.compile(re_s)\n",
    "    %timeit ':'.join(re_c.findall(mac))"
   ]
  },
  {
   "cell_type": "code",
   "execution_count": null,
   "metadata": {
    "collapsed": false
   },
   "outputs": [],
   "source": [
    "# Or find other methods:\n",
    "\n",
    "# complex...\n",
    "from re import sub as sed\n",
    "%timeit sed(r'(..)', r'\\1:', mac)"
   ]
  },
  {
   "cell_type": "code",
   "execution_count": null,
   "metadata": {
    "collapsed": false
   },
   "outputs": [],
   "source": [
    "# ...or simple\n",
    "%timeit ':'.join([mac[i:i+2] for i in range(0,12,2)])\n",
    "#Outside iPython check the timeit module\n",
    "\n",
    "# Execise: which is the fastest method? Why?"
   ]
  },
  {
   "cell_type": "markdown",
   "metadata": {},
   "source": [
    "## Example: generating vsan configuration snippets"
   ]
  },
  {
   "cell_type": "code",
   "execution_count": null,
   "metadata": {
    "collapsed": true
   },
   "outputs": [],
   "source": [
    "# Don't need to type this VSAN configuration script\n",
    "#  which uses linux FC information from /sys filesystem\n",
    "from glob import glob\n",
    "fc_id_path = \"/sys/class/fc_host/host*/port_name\"\n",
    "for x in glob(fc_id_path):\n",
    "    # ...we boldly skip an explicit close()\n",
    "    pwwn = open(x).read()  # 0x500143802427e66c\n",
    "    pwwn = pwwn[2:]\n",
    "    # ...and even use the slower but readable\n",
    "    pwwn = re.findall(r'..', pwwn)\n",
    "    print(\"member pwwn \", ':'.join(pwwn))"
   ]
  },
  {
   "cell_type": "code",
   "execution_count": null,
   "metadata": {
    "collapsed": true
   },
   "outputs": [],
   "source": []
  },
  {
   "cell_type": "markdown",
   "metadata": {},
   "source": [
    "# Parsing: Exercise II\n",
    "\n",
    "Now another test for the delivered messages\n",
    "    - %edit 03_parsing_test.py\n",
    "    - %paste to iPython and run test_delivered()\n",
    "    - fix parse_line to work with both tests and save\n"
   ]
  },
  {
   "cell_type": "code",
   "execution_count": null,
   "metadata": {
    "collapsed": true
   },
   "outputs": [],
   "source": [
    "#\n",
    "# Use this cell for Exercise II\n",
    "#\n",
    "test_delivered()"
   ]
  }
 ],
 "metadata": {
  "kernelspec": {
   "display_name": "Python 2",
   "language": "python",
   "name": "python2"
  },
  "language_info": {
   "codemirror_mode": {
    "name": "ipython",
    "version": 2
   },
   "file_extension": ".py",
   "mimetype": "text/x-python",
   "name": "python",
   "nbconvert_exporter": "python",
   "pygments_lexer": "ipython2",
   "version": "2.7.12"
  }
 },
 "nbformat": 4,
 "nbformat_minor": 0
}
